{
  "nbformat": 4,
  "nbformat_minor": 0,
  "metadata": {
    "colab": {
      "name": "Untitled1.ipynb",
      "provenance": [],
      "collapsed_sections": []
    },
    "kernelspec": {
      "name": "python3",
      "display_name": "Python 3"
    },
    "language_info": {
      "name": "python"
    }
  },
  "cells": [
    {
      "cell_type": "markdown",
      "source": [
        "**Using Machine Learning Models to Predict the Desirability of a Car**"
      ],
      "metadata": {
        "id": "fRucUvO9u1sw"
      }
    },
    {
      "cell_type": "code",
      "execution_count": null,
      "metadata": {
        "id": "Ujkrr3bizzUA"
      },
      "outputs": [],
      "source": [
        "import os\n",
        "import numpy as np\n",
        "import pandas as pd\n",
        "import matplotlib.pyplot as plt\n",
        "from PIL import Image\n",
        "\n",
        "import torch\n",
        "import torch.nn as nn\n",
        "from torch.autograd import Variable\n",
        "import torch.optim  as optim\n",
        "from torchvision import datasets, models, transforms, utils\n",
        "import torch.nn.functional as F\n",
        "from torchvision.datasets import MNIST\n",
        "from torch.utils.data import DataLoader\n",
        "from torch.utils.data import Dataset\n",
        "from sklearn.preprocessing import StandardScaler\n",
        "from sklearn.tree import DecisionTreeClassifier\n",
        "from sklearn.tree import plot_tree\n",
        "from sklearn.model_selection import train_test_split\n",
        "from sklearn.model_selection import cross_val_score\n",
        "from sklearn.metrics import confusion_matrix\n",
        "from sklearn.feature_extraction import text\n",
        "from sklearn.model_selection import train_test_split\n",
        "from sklearn.metrics import plot_confusion_matrix\n",
        "from sklearn.metrics import accuracy_score\n",
        "import keras\n",
        "from keras.models import Sequential\n",
        "from keras.layers import Dense\n",
        "from keras.models import load_model"
      ]
    },
    {
      "cell_type": "code",
      "source": [
        "class MultiLayerNN(nn.Module):\n",
        "    def __init__(self, input_dim = 6, output_dim = 1):\n",
        "        super(MultiLayerNN, self).__init__()\n",
        "        self.linear_relu_stack = nn.Sequential(\n",
        "            nn.Linear(6, 1),\n",
        "        )\n",
        "    def forward(self, input):\n",
        "        output = self.linear_relu_stack(input)\n",
        "        return output\n",
        "     "
      ],
      "metadata": {
        "id": "gxguVPw7KMi7"
      },
      "execution_count": null,
      "outputs": []
    },
    {
      "cell_type": "code",
      "source": [
        "nn_clf = MultiLayerNN()"
      ],
      "metadata": {
        "id": "cqPpqDTAKZmY"
      },
      "execution_count": null,
      "outputs": []
    },
    {
      "cell_type": "code",
      "source": [
        "outer = -1\n",
        "inner = -1\n",
        "index = -1\n",
        "valueDict = {\"vhigh\": 4, \"high\": 3, \"med\": 2, \"low\": 1, \"small\": 1, \"big\": 3, \"unacc\": 0, \"acc\": 0, \"good\": 1, \"vgood\": 1, \"5more\": 5, \"more\": 4}\n",
        "filename = \"/content/car.csv\"\n",
        "outfile = pd.read_csv(filename)\n",
        "x = outfile.iloc[0:1729, 0:6].values\n",
        "for row in x:\n",
        "  inner = -1\n",
        "  outer += 1\n",
        "  for value in row:\n",
        "    inner += 1\n",
        "    try:\n",
        "      x[outer][inner] = valueDict[value]\n",
        "    except:\n",
        "      pass\n",
        "y = outfile.iloc[0:1729, 6].values\n",
        "yCounter = -1\n",
        "for value in y:\n",
        "  yCounter += 1\n",
        "  try:\n",
        "    y[yCounter] = valueDict[value]\n",
        "  except:\n",
        "    pass\n",
        "sc = StandardScaler()\n",
        "p = np.random.permutation(len(x))\n",
        "x, y = x[p], y[p]\n",
        "x_train = sc.fit_transform(x[0:1400])\n",
        "y_train = y[0:1400]\n",
        "x_test = x[1401:]\n",
        "y_test = y[1401:]\n",
        "y_train = np.array(y_train, dtype = np.float32)\n",
        "x_train = torch.tensor(x_train, dtype = torch.float32)\n",
        "y_train = torch.from_numpy(y_train)\n",
        "x_test = np.array(x_test, dtype = np.float32)\n",
        "x_test = torch.from_numpy(x_test)\n",
        "y_test = np.array(y_test, dtype = np.float32)\n",
        "y_test = torch.from_numpy(y_test)\n",
        "loss_func = nn.MSELoss()\n",
        "optimizer = None\n",
        "optimizer = torch.optim.Adam(nn_clf.parameters(), lr =.01)\n",
        "for epoch in range(1000):\n",
        "  pred = nn_clf(x_train)\n",
        "  loss = loss_func(pred, y_train)\n",
        "  optimizer.zero_grad()\n",
        "  loss.backward()\n",
        "  optimizer.step()\n",
        "print(\"Training completed!\")"
      ],
      "metadata": {
        "colab": {
          "base_uri": "https://localhost:8080/"
        },
        "id": "cXMyFwXcKd_d",
        "outputId": "6b51278e-19b7-4fd2-fc0b-69acf683ae9f"
      },
      "execution_count": null,
      "outputs": [
        {
          "output_type": "stream",
          "name": "stderr",
          "text": [
            "/usr/local/lib/python3.7/dist-packages/torch/nn/modules/loss.py:530: UserWarning: Using a target size (torch.Size([1400])) that is different to the input size (torch.Size([1400, 1])). This will likely lead to incorrect results due to broadcasting. Please ensure they have the same size.\n",
            "  return F.mse_loss(input, target, reduction=self.reduction)\n"
          ]
        },
        {
          "output_type": "stream",
          "name": "stdout",
          "text": [
            "Training completed!\n"
          ]
        }
      ]
    },
    {
      "cell_type": "code",
      "source": [
        "\n",
        "# Accuracy\n",
        "counter = 0\n",
        "y_pred = nn_clf(x_test)\n",
        "for i in range(len(y_pred)):\n",
        "  y_pred[i] = y_pred[i].round()\n",
        "  if y_pred[i] == y_test[i]:\n",
        "    counter += 1\n",
        "print(counter/len(y_pred))"
      ],
      "metadata": {
        "id": "Irhl_PvvGupM",
        "colab": {
          "base_uri": "https://localhost:8080/"
        },
        "outputId": "27fc668c-9bb8-4eee-d3be-b8edd78a2459"
      },
      "execution_count": null,
      "outputs": [
        {
          "output_type": "stream",
          "name": "stdout",
          "text": [
            "0.9143730886850153\n"
          ]
        }
      ]
    },
    {
      "cell_type": "markdown",
      "source": [
        "Decision Tree Model"
      ],
      "metadata": {
        "id": "o3z46_QwWgme"
      }
    },
    {
      "cell_type": "code",
      "source": [
        "xD = pd.DataFrame(x, columns = [\"Buying\", \"Maint\", \"Doors\", \"Persons\", \"Luggage\", \"Safety\"])\n",
        "xD=xD.astype('float')\n",
        "yD = pd.DataFrame(y, columns = [\"Class\"])\n",
        "yD=yD.astype('float')\n",
        "X_train, X_test, Y_train, Y_test = train_test_split(xD, yD)\n",
        "dT = DecisionTreeClassifier()\n",
        "dT = dT.fit(X_train, Y_train)\n",
        "plot_confusion_matrix(dT, X_test, Y_test, display_labels = [\"Good Purchase\", \"Bad Purchase\"])"
      ],
      "metadata": {
        "colab": {
          "base_uri": "https://localhost:8080/",
          "height": 351
        },
        "id": "cxhc7AcMXez5",
        "outputId": "62c2a0f1-606f-4c18-9eaa-056bdfd26590"
      },
      "execution_count": null,
      "outputs": [
        {
          "output_type": "stream",
          "name": "stderr",
          "text": [
            "/usr/local/lib/python3.7/dist-packages/sklearn/utils/deprecation.py:87: FutureWarning: Function plot_confusion_matrix is deprecated; Function `plot_confusion_matrix` is deprecated in 1.0 and will be removed in 1.2. Use one of the class methods: ConfusionMatrixDisplay.from_predictions or ConfusionMatrixDisplay.from_estimator.\n",
            "  warnings.warn(msg, category=FutureWarning)\n"
          ]
        },
        {
          "output_type": "execute_result",
          "data": {
            "text/plain": [
              "<sklearn.metrics._plot.confusion_matrix.ConfusionMatrixDisplay at 0x7f9600194390>"
            ]
          },
          "metadata": {},
          "execution_count": 9
        },
        {
          "output_type": "display_data",
          "data": {
            "text/plain": [
              "<Figure size 432x288 with 2 Axes>"
            ],
            "image/png": "[encoded data removed]"
          },
          "metadata": {
            "needs_background": "light"
          }
        }
      ]
    },
    {
      "cell_type": "markdown",
      "source": [
        "Decision Tree without Certain Features"
      ],
      "metadata": {
        "id": "sOE6Hb4FJCG3"
      }
    },
    {
      "cell_type": "code",
      "source": [
        "xD = pd.DataFrame(x, columns = [\"Buying\", \"Maint\", \"Doors\", \"Persons\", \"Luggage\", \"Safety\"])\n",
        "#Feel free to play around and delete certain features\n",
        "# xD = xD.drop([\"Luggage\", \"Doors\"], axis = 1)\n",
        "xD=xD.astype('float')\n",
        "yD = pd.DataFrame(y, columns = [\"Class\"])\n",
        "yD=yD.astype('float')\n",
        "X_train, X_test, Y_train, Y_test = train_test_split(xD, yD, random_state = 40)\n",
        "dT = DecisionTreeClassifier(random_state = 40)\n",
        "dT = dT.fit(X_train, Y_train)\n",
        "plot_confusion_matrix(dT, X_test, Y_test, display_labels = [\"Good Purchase\", \"Bad Purchase\"])"
      ],
      "metadata": {
        "colab": {
          "base_uri": "https://localhost:8080/",
          "height": 351
        },
        "id": "TvYUMtq_OOUX",
        "outputId": "6dcabed0-aef0-44fe-9e7d-81cd809f8991"
      },
      "execution_count": null,
      "outputs": [
        {
          "output_type": "stream",
          "name": "stderr",
          "text": [
            "/usr/local/lib/python3.7/dist-packages/sklearn/utils/deprecation.py:87: FutureWarning: Function plot_confusion_matrix is deprecated; Function `plot_confusion_matrix` is deprecated in 1.0 and will be removed in 1.2. Use one of the class methods: ConfusionMatrixDisplay.from_predictions or ConfusionMatrixDisplay.from_estimator.\n",
            "  warnings.warn(msg, category=FutureWarning)\n"
          ]
        },
        {
          "output_type": "execute_result",
          "data": {
            "text/plain": [
              "<sklearn.metrics._plot.confusion_matrix.ConfusionMatrixDisplay at 0x7f6c761bc5d0>"
            ]
          },
          "metadata": {},
          "execution_count": 101
        },
        {
          "output_type": "display_data",
          "data": {
            "text/plain": [
              "<Figure size 432x288 with 2 Axes>"
            ],
            "image/png": "[encoded data removed]"
          },
          "metadata": {
            "needs_background": "light"
          }
        }
      ]
    },
    {
      "cell_type": "markdown",
      "source": [
        "Average Person capacity per Door"
      ],
      "metadata": {
        "id": "13b-BFrj9BwO"
      }
    },
    {
      "cell_type": "code",
      "source": [
        "doorDict = {2: 0, 3: 0, 4: 0, 5: 0}\n",
        "doorCount = {2: 0, 3: 0, 4: 0, 5: 0}\n",
        "for item in x:\n",
        "  doorDict[int(item[2])] += int(item[3])\n",
        "  doorCount[int(item[2])] += 1\n",
        "doorDict[2] = doorDict[2]/doorCount[2]\n",
        "doorDict[3] = doorDict[3]/doorCount[3]\n",
        "doorDict[4] = doorDict[4]/doorCount[4]\n",
        "doorDict[5] = doorDict[5]/doorCount[5]\n",
        "print(doorDict)"
      ],
      "metadata": {
        "colab": {
          "base_uri": "https://localhost:8080/"
        },
        "id": "d2P7LSYUWdIh",
        "outputId": "2a3aa88c-8ef9-4e5d-cac5-8e80030c76b7"
      },
      "execution_count": null,
      "outputs": [
        {
          "output_type": "stream",
          "name": "stdout",
          "text": [
            "{2: 3.3333333333333335, 3: 3.3333333333333335, 4: 3.3333333333333335, 5: 3.3333333333333335}\n"
          ]
        }
      ]
    }
  ]
}